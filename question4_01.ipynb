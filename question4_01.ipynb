{
  "nbformat": 4,
  "nbformat_minor": 0,
  "metadata": {
    "colab": {
      "name": "question4_01.ipynb",
      "provenance": [],
      "collapsed_sections": []
    },
    "kernelspec": {
      "name": "python3",
      "display_name": "Python 3"
    },
    "language_info": {
      "name": "python"
    }
  },
  "cells": [
    {
      "cell_type": "code",
      "execution_count": 12,
      "metadata": {
        "colab": {
          "base_uri": "https://localhost:8080/"
        },
        "id": "KvZ77ilISvtp",
        "outputId": "ab851666-4dfc-4447-ce9f-7cf65b99e458"
      },
      "outputs": [
        {
          "output_type": "stream",
          "name": "stdout",
          "text": [
            "Enter your char: kitten\n",
            "Enter your index: 2\n",
            "kiten\n"
          ]
        }
      ],
      "source": [
        "char = input(\"Enter your char: \")\n",
        "if len(char)==0 : \n",
        "  print(\"error\")\n",
        "else:\n",
        "  n = input(\"Enter your index: \")\n",
        "  n = int(n)\n",
        "  char = char[0:n]+ char[n+1:]\n",
        "print(char)"
      ]
    }
  ]
}