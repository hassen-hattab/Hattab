{
  "nbformat": 4,
  "nbformat_minor": 0,
  "metadata": {
    "colab": {
      "name": "Untitled1.ipynb",
      "provenance": [],
      "collapsed_sections": []
    },
    "kernelspec": {
      "name": "python3",
      "display_name": "Python 3"
    },
    "language_info": {
      "name": "python"
    }
  },
  "cells": [
    {
      "cell_type": "code",
      "execution_count": 42,
      "metadata": {
        "colab": {
          "base_uri": "https://localhost:8080/"
        },
        "id": "KvZ77ilISvtp",
        "outputId": "4a7bd0ad-ca14-463f-b66e-d91c2eea59b7"
      },
      "outputs": [
        {
          "output_type": "stream",
          "name": "stdout",
          "text": [
            "Enter your char: bdran\n",
            "Enter your index: 1\n",
            "bran\n"
          ]
        }
      ],
      "source": [
        "char = input(\"Enter your char: \")\n",
        "if len(char)==0 : \n",
        "  print(\"error\")\n",
        "else:\n",
        "  n = input(\"Enter your index: \")\n",
        "  n = int(n)\n",
        "  print(char.replace(char[n], ''))\n"
      ]
    }
  ]
}