{
  "nbformat": 4,
  "nbformat_minor": 0,
  "metadata": {
    "colab": {
      "name": "Untitled1.ipynb",
      "provenance": [],
      "collapsed_sections": []
    },
    "kernelspec": {
      "name": "python3",
      "display_name": "Python 3"
    },
    "language_info": {
      "name": "python"
    }
  },
  "cells": [
    {
      "cell_type": "code",
      "execution_count": 44,
      "metadata": {
        "colab": {
          "base_uri": "https://localhost:8080/"
        },
        "id": "KvZ77ilISvtp",
        "outputId": "cbfc1692-85ea-4848-b3ea-3260639a1637"
      },
      "outputs": [
        {
          "output_type": "stream",
          "name": "stdout",
          "text": [
            "Enter d:100\n",
            "Enter d:150\n",
            "Enter d:180\n",
            "Enter d:\n",
            "[100, 150, 180]\n",
            "[18, 22, 24]\n"
          ]
        }
      ],
      "source": [
        "c = 50\n",
        "h = 30 \n",
        "listo = []\n",
        "listaa = []\n",
        "d = input('Enter d:')\n",
        "while d != '':\n",
        "  listo.append(int(d))\n",
        "  d = input('Enter d:')\n",
        "\n",
        "print(listo)\n",
        "\n",
        "import math\n",
        "for i in listo :\n",
        "  q = (2 * c * i)/h \n",
        "  q =math.sqrt(int(q))\n",
        "  listaa.append(int(q))\n",
        "print(listaa)"
      ]
    }
  ]
}