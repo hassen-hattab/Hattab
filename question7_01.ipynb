{
  "nbformat": 4,
  "nbformat_minor": 0,
  "metadata": {
    "colab": {
      "name": "question7_01.ipynb",
      "provenance": [],
      "collapsed_sections": []
    },
    "kernelspec": {
      "name": "python3",
      "display_name": "Python 3"
    },
    "language_info": {
      "name": "python"
    }
  },
  "cells": [
    {
      "cell_type": "code",
      "execution_count": 25,
      "metadata": {
        "colab": {
          "base_uri": "https://localhost:8080/"
        },
        "id": "KvZ77ilISvtp",
        "outputId": "387d4c2a-a596-4071-c0cc-0658bf7352f6"
      },
      "outputs": [
        {
          "output_type": "stream",
          "name": "stdout",
          "text": [
            "Enter d:100,150,180\n",
            "18,22,24\n"
          ]
        }
      ],
      "source": [
        "c = 50\n",
        "h = 30 \n",
        "d = input('Enter d:')\n",
        "x = d.split(\",\")\n",
        "m = ''\n",
        "lista=[]\n",
        "import math\n",
        "for i in x :\n",
        "  i= int(i)\n",
        "  q = (2 * c * i)/h \n",
        "  q = math.sqrt(int(q))\n",
        "  q = int(q)\n",
        "  lista.append(str(q))\n",
        "\n",
        "listToStr = ','.join(lista)\n",
        "print(listToStr)\n",
        "\n",
        "\n",
        "\n",
        "\n"
      ]
    }
  ]
}