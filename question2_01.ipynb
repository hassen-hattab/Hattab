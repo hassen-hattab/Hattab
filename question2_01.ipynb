{
  "nbformat": 4,
  "nbformat_minor": 0,
  "metadata": {
    "colab": {
      "name": "Untitled1.ipynb",
      "provenance": [],
      "collapsed_sections": []
    },
    "kernelspec": {
      "name": "python3",
      "display_name": "Python 3"
    },
    "language_info": {
      "name": "python"
    }
  },
  "cells": [
    {
      "cell_type": "code",
      "execution_count": 33,
      "metadata": {
        "colab": {
          "base_uri": "https://localhost:8080/"
        },
        "id": "KvZ77ilISvtp",
        "outputId": "e744a2bd-73fa-4a50-ada7-9117f5a1a31a"
      },
      "outputs": [
        {
          "output_type": "stream",
          "name": "stdout",
          "text": [
            "Enter your value: 5\n",
            "120\n"
          ]
        }
      ],
      "source": [
        "n = input(\"Enter your value: \")\n",
        "a = int(n)\n",
        "k = 1\n",
        "for i in range(a, 0, -1):\n",
        "  k = i*k\n",
        "print(k)\n"
      ]
    }
  ]
}