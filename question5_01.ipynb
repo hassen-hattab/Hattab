{
  "nbformat": 4,
  "nbformat_minor": 0,
  "metadata": {
    "colab": {
      "name": "Untitled1.ipynb",
      "provenance": [],
      "collapsed_sections": []
    },
    "kernelspec": {
      "name": "python3",
      "display_name": "Python 3"
    },
    "language_info": {
      "name": "python"
    }
  },
  "cells": [
    {
      "cell_type": "code",
      "execution_count": 8,
      "metadata": {
        "colab": {
          "base_uri": "https://localhost:8080/"
        },
        "id": "KvZ77ilISvtp",
        "outputId": "4fe3ac1d-d54f-4d87-8c0b-37ae16a6a811"
      },
      "outputs": [
        {
          "output_type": "stream",
          "name": "stdout",
          "text": [
            "List: [[0, 1], [2, 3], [4, 5]]\n"
          ]
        }
      ],
      "source": [
        "import numpy as np\n",
        "a = np.array([[0,1],[2,3],[4,5]])\n",
        "list = a.tolist()\n",
        "print(f'List: {list}')"
      ]
    }
  ]
}