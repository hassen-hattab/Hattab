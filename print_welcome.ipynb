{
  "nbformat": 4,
  "nbformat_minor": 0,
  "metadata": {
    "colab": {
      "name": "Untitled0.ipynb",
      "provenance": []
    },
    "kernelspec": {
      "name": "python3",
      "display_name": "Python 3"
    },
    "language_info": {
      "name": "python"
    }
  },
  "cells": [
    {
      "cell_type": "code",
      "execution_count": 1,
      "metadata": {
        "colab": {
          "base_uri": "https://localhost:8080/"
        },
        "id": "9lPDUN8DRiPR",
        "outputId": "8c14dc75-9e41-4e55-d87e-b72adc7a0162"
      },
      "outputs": [
        {
          "output_type": "stream",
          "name": "stdout",
          "text": [
            "Welcome to python world! Let's start coding\n"
          ]
        }
      ],
      "source": [
        "print(\"Welcome to python world! Let's start coding\")"
      ]
    }
  ]
}